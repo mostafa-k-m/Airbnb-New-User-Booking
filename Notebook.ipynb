{
 "cells": [
  {
   "cell_type": "markdown",
   "metadata": {
    "nteract": {
     "transient": {
      "deleting": false
     }
    }
   },
   "source": [
    "##  Airbnb new user booking prediction using pyspatk and spark-ml\n",
    "link for data: https://www.kaggle.com/c/airbnb-recruiting-new-user-bookings"
   ]
  },
  {
   "cell_type": "code",
   "execution_count": 1,
   "metadata": {
    "collapsed": false,
    "jupyter": {
     "outputs_hidden": false,
     "source_hidden": false
    },
    "nteract": {
     "transient": {
      "deleting": false
     }
    }
   },
   "outputs": [],
   "source": [
    "import os\n",
    "os.environ[\"JAVA_HOME\"] = \"/usr/lib64/jvm/jre-1.8.0-openjdk\"\n",
    "from pyspark.sql import SparkSession\n",
    "\n",
    "spark = SparkSession \\\n",
    "    .builder \\\n",
    "    .appName(\"Project3 - Airbnb\") \\\n",
    "    .config(\"spark.driver.memory\", \"15g\") \\\n",
    "    .getOrCreate()\n"
   ]
  },
  {
   "cell_type": "code",
   "execution_count": 2,
   "metadata": {
    "collapsed": false,
    "jupyter": {
     "outputs_hidden": false,
     "source_hidden": false
    },
    "nteract": {
     "transient": {
      "deleting": false
     }
    }
   },
   "outputs": [],
   "source": [
    "from pyspark.sql.types import LongType, StringType, StructField, StructType, BooleanType, ArrayType, IntegerType, DateType, FloatType"
   ]
  },
  {
   "cell_type": "markdown",
   "metadata": {},
   "source": [
    "## Loading the train dataset"
   ]
  },
  {
   "cell_type": "code",
   "execution_count": 3,
   "metadata": {
    "collapsed": false,
    "jupyter": {
     "outputs_hidden": false,
     "source_hidden": false
    },
    "nteract": {
     "transient": {
      "deleting": false
     }
    }
   },
   "outputs": [],
   "source": [
    "schema_Train_Users = StructType([\n",
    "    StructField(\"id\", StringType(), False),\n",
    "    StructField(\"date_account_created\", DateType(), True),\n",
    "    StructField(\"timestamp_first_active\", StringType(), True),\n",
    "    StructField(\"date_first_booking\", DateType(), True),\n",
    "    StructField(\"gender\", StringType(), True),\n",
    "    StructField(\"age\", FloatType(), True),\n",
    "    StructField(\"signup_method\", StringType(), True),\n",
    "    StructField(\"signup_flow\", FloatType(), True),\n",
    "    StructField(\"language\", StringType(), True),\n",
    "    StructField(\"affiliate_channel\", StringType(), True),\n",
    "    StructField(\"affiliate_provider\", StringType(), True),\n",
    "    StructField(\"first_affiliate_tracked\", StringType(), True),\n",
    "    StructField(\"signup_app\", StringType(), True),\n",
    "    StructField(\"first_device_type\", StringType(), True),\n",
    "    StructField(\"first_browser\", StringType(), True),\n",
    "    StructField(\"country_destination\", StringType(), True)])"
   ]
  },
  {
   "cell_type": "code",
   "execution_count": 4,
   "metadata": {
    "collapsed": false,
    "jupyter": {
     "outputs_hidden": false,
     "source_hidden": false
    },
    "nteract": {
     "transient": {
      "deleting": false
     }
    }
   },
   "outputs": [],
   "source": [
    "train_users_raw = spark.read\\\n",
    "            .format(\"csv\")\\\n",
    "            .schema(schema_Train_Users)\\\n",
    "            .option(\"header\", \"true\")\\\n",
    "            .load(\"./Dataset/train_users_2.csv\")"
   ]
  },
  {
   "cell_type": "code",
   "execution_count": 5,
   "metadata": {
    "collapsed": false,
    "jupyter": {
     "outputs_hidden": false,
     "source_hidden": false
    },
    "nteract": {
     "transient": {
      "deleting": false
     }
    }
   },
   "outputs": [
    {
     "name": "stdout",
     "output_type": "stream",
     "text": [
      "+----------+--------------------+----------------------+------------------+---------+----+-------------+-----------+--------+-----------------+------------------+-----------------------+----------+-----------------+-------------+-------------------+\n",
      "|        id|date_account_created|timestamp_first_active|date_first_booking|   gender| age|signup_method|signup_flow|language|affiliate_channel|affiliate_provider|first_affiliate_tracked|signup_app|first_device_type|first_browser|country_destination|\n",
      "+----------+--------------------+----------------------+------------------+---------+----+-------------+-----------+--------+-----------------+------------------+-----------------------+----------+-----------------+-------------+-------------------+\n",
      "|gxn3p5htnn|          2010-06-28|        20090319043255|              null|-unknown-|null|     facebook|        0.0|      en|           direct|            direct|              untracked|       Web|      Mac Desktop|       Chrome|                NDF|\n",
      "|820tgsjxq7|          2011-05-25|        20090523174809|              null|     MALE|38.0|     facebook|        0.0|      en|              seo|            google|              untracked|       Web|      Mac Desktop|       Chrome|                NDF|\n",
      "|4ft3gnwmtx|          2010-09-28|        20090609231247|        2010-08-02|   FEMALE|56.0|        basic|        3.0|      en|           direct|            direct|              untracked|       Web|  Windows Desktop|           IE|                 US|\n",
      "|bjjt8pjhuk|          2011-12-05|        20091031060129|        2012-09-08|   FEMALE|42.0|     facebook|        0.0|      en|           direct|            direct|              untracked|       Web|      Mac Desktop|      Firefox|              other|\n",
      "|87mebub9p4|          2010-09-14|        20091208061105|        2010-02-18|-unknown-|41.0|        basic|        0.0|      en|           direct|            direct|              untracked|       Web|      Mac Desktop|       Chrome|                 US|\n",
      "+----------+--------------------+----------------------+------------------+---------+----+-------------+-----------+--------+-----------------+------------------+-----------------------+----------+-----------------+-------------+-------------------+\n",
      "only showing top 5 rows\n",
      "\n"
     ]
    }
   ],
   "source": [
    "train_users_raw.show(5)"
   ]
  },
  {
   "cell_type": "markdown",
   "metadata": {},
   "source": [
    "## Loading the sessions dataset"
   ]
  },
  {
   "cell_type": "code",
   "execution_count": 6,
   "metadata": {
    "collapsed": false,
    "jupyter": {
     "outputs_hidden": false,
     "source_hidden": false
    },
    "nteract": {
     "transient": {
      "deleting": false
     }
    }
   },
   "outputs": [],
   "source": [
    "schema_sessions_raw = StructType([\n",
    "    StructField(\"user_id\", StringType(), False),\n",
    "    StructField(\"action\", StringType(), True),\n",
    "    StructField(\"action_type\", DateType(), True),\n",
    "    StructField(\"action_detail\", StringType(), True),\n",
    "    StructField(\"device_type\", StringType(), True),\n",
    "    StructField(\"secs_elapsed\", FloatType(), True)])"
   ]
  },
  {
   "cell_type": "code",
   "execution_count": 7,
   "metadata": {
    "collapsed": false,
    "jupyter": {
     "outputs_hidden": false,
     "source_hidden": false
    },
    "nteract": {
     "transient": {
      "deleting": false
     }
    }
   },
   "outputs": [],
   "source": [
    "sessions_raw = spark.read\\\n",
    "            .format(\"csv\")\\\n",
    "            .option(\"header\", \"true\")\\\n",
    "            .load(\"./Dataset/sessions.csv\")"
   ]
  },
  {
   "cell_type": "code",
   "execution_count": 8,
   "metadata": {
    "collapsed": false,
    "jupyter": {
     "outputs_hidden": false,
     "source_hidden": false
    },
    "nteract": {
     "transient": {
      "deleting": false
     }
    }
   },
   "outputs": [
    {
     "name": "stdout",
     "output_type": "stream",
     "text": [
      "+----------+--------------+-----------+-------------------+---------------+------------+\n",
      "|   user_id|        action|action_type|      action_detail|    device_type|secs_elapsed|\n",
      "+----------+--------------+-----------+-------------------+---------------+------------+\n",
      "|d1mm9tcy42|        lookup|       null|               null|Windows Desktop|       319.0|\n",
      "|d1mm9tcy42|search_results|      click|view_search_results|Windows Desktop|     67753.0|\n",
      "|d1mm9tcy42|        lookup|       null|               null|Windows Desktop|       301.0|\n",
      "|d1mm9tcy42|search_results|      click|view_search_results|Windows Desktop|     22141.0|\n",
      "|d1mm9tcy42|        lookup|       null|               null|Windows Desktop|       435.0|\n",
      "+----------+--------------+-----------+-------------------+---------------+------------+\n",
      "only showing top 5 rows\n",
      "\n"
     ]
    }
   ],
   "source": [
    "sessions_raw.show(5)"
   ]
  },
  {
   "cell_type": "markdown",
   "metadata": {},
   "source": [
    "## Loading the countries dataset"
   ]
  },
  {
   "cell_type": "code",
   "execution_count": 9,
   "metadata": {
    "collapsed": false,
    "jupyter": {
     "outputs_hidden": false,
     "source_hidden": false
    },
    "nteract": {
     "transient": {
      "deleting": false
     }
    }
   },
   "outputs": [],
   "source": [
    "schema_countries_raw = StructType([\n",
    "    StructField(\"country_destination\", StringType(), False),\n",
    "    StructField(\"lat_destination\", FloatType(), True),\n",
    "    StructField(\"lng_destination\", FloatType(), True),\n",
    "    StructField(\"distance_km\", FloatType(), True),\n",
    "    StructField(\"destination_km2\", FloatType(), True),\n",
    "    StructField(\"destination_language\", StringType(), True),\n",
    "    StructField(\"language_levenshtein_distance\", FloatType(), True)])"
   ]
  },
  {
   "cell_type": "code",
   "execution_count": 10,
   "metadata": {
    "collapsed": false,
    "jupyter": {
     "outputs_hidden": false,
     "source_hidden": false
    },
    "nteract": {
     "transient": {
      "deleting": false
     }
    }
   },
   "outputs": [],
   "source": [
    "countries_raw = spark.read\\\n",
    "            .format(\"csv\")\\\n",
    "            .option(\"header\", \"true\")\\\n",
    "            .load(\"./Dataset/countries.csv\")"
   ]
  },
  {
   "cell_type": "code",
   "execution_count": 11,
   "metadata": {
    "collapsed": false,
    "jupyter": {
     "outputs_hidden": false,
     "source_hidden": false
    },
    "nteract": {
     "transient": {
      "deleting": false
     }
    }
   },
   "outputs": [
    {
     "name": "stdout",
     "output_type": "stream",
     "text": [
      "+-------------------+---------------+---------------+-----------+---------------+---------------------+-----------------------------+\n",
      "|country_destination|lat_destination|lng_destination|distance_km|destination_km2|destination_language |language_levenshtein_distance|\n",
      "+-------------------+---------------+---------------+-----------+---------------+---------------------+-----------------------------+\n",
      "|                 AU|     -26.853388|      133.27516|  15297.744|      7741220.0|                  eng|                          0.0|\n",
      "|                 CA|      62.393303|     -96.818146|  2828.1333|      9984670.0|                  eng|                          0.0|\n",
      "|                 DE|      51.165707|      10.452764|   7879.568|       357022.0|                  deu|                        72.61|\n",
      "|                 ES|      39.896027|     -2.4876945|   7730.724|       505370.0|                  spa|                        92.25|\n",
      "|                 FR|      46.232193|       2.209667|   7682.945|       643801.0|                  fra|                        92.06|\n",
      "|                 GB|       54.63322|     -3.4322774|   6883.659|       243610.0|                  eng|                          0.0|\n",
      "|                 IT|       41.87399|      12.564167|   8636.631|       301340.0|                  ita|                         89.4|\n",
      "|                 NL|      52.133057|        5.29525|  7524.3203|        41543.0|                  nld|                        63.22|\n",
      "|                 PT|      39.553444|      -7.839319|  7355.2534|        92090.0|                  por|                        95.45|\n",
      "|                 US|      36.966427|      -95.84403|        0.0|      9826675.0|                  eng|                          0.0|\n",
      "+-------------------+---------------+---------------+-----------+---------------+---------------------+-----------------------------+\n",
      "\n"
     ]
    }
   ],
   "source": [
    "countries_raw.show()"
   ]
  },
  {
   "cell_type": "markdown",
   "metadata": {
    "nteract": {
     "transient": {
      "deleting": false
     }
    }
   },
   "source": [
    "## Calculating the total session time for each user"
   ]
  },
  {
   "cell_type": "code",
   "execution_count": 12,
   "metadata": {
    "collapsed": false,
    "jupyter": {
     "outputs_hidden": false,
     "source_hidden": false
    },
    "nteract": {
     "transient": {
      "deleting": false
     }
    }
   },
   "outputs": [],
   "source": [
    "from pyspark.sql.functions import sum as _sum\n",
    "session_time = sessions_raw.groupby(\"user_id\").agg(_sum('secs_elapsed').alias('sum_secs_elapsed'))"
   ]
  },
  {
   "cell_type": "code",
   "execution_count": 13,
   "metadata": {
    "collapsed": false,
    "jupyter": {
     "outputs_hidden": false,
     "source_hidden": false
    },
    "nteract": {
     "transient": {
      "deleting": false
     }
    }
   },
   "outputs": [
    {
     "name": "stdout",
     "output_type": "stream",
     "text": [
      "+----------+----------------+\n",
      "|   user_id|sum_secs_elapsed|\n",
      "+----------+----------------+\n",
      "|de3scomvop|          1051.0|\n",
      "|9nut71te0s|       1659715.0|\n",
      "|zlv8f1qg2g|       1155388.0|\n",
      "|srykgkylee|           246.0|\n",
      "|funlgmcmr3|         54747.0|\n",
      "|mzduh7va3m|       1483785.0|\n",
      "|zds4xn9jvb|       4837348.0|\n",
      "|s5hieu20bh|        631247.0|\n",
      "|n2utn4z7pk|       2993479.0|\n",
      "|e766mg6ku1|        259326.0|\n",
      "|xfpn2xw6b6|        500275.0|\n",
      "|thkobfxs30|        480322.0|\n",
      "|fvjgmiax3d|         96818.0|\n",
      "|2gv2kfvseu|        401193.0|\n",
      "|ott06joxd2|       1292370.0|\n",
      "|e2zoe02zd5|        642272.0|\n",
      "|f0cnhta47g|       1338892.0|\n",
      "|spv23uq1cb|       1567138.0|\n",
      "|5ounyry4bv|        162051.0|\n",
      "|sl81fx9peb|        182636.0|\n",
      "+----------+----------------+\n",
      "only showing top 20 rows\n",
      "\n"
     ]
    }
   ],
   "source": [
    "session_time.show()"
   ]
  },
  {
   "cell_type": "markdown",
   "metadata": {},
   "source": [
    "## Adding the total Session time to the training dataset "
   ]
  },
  {
   "cell_type": "code",
   "execution_count": 14,
   "metadata": {
    "collapsed": false,
    "jupyter": {
     "outputs_hidden": false,
     "source_hidden": false
    },
    "nteract": {
     "transient": {
      "deleting": false
     }
    }
   },
   "outputs": [],
   "source": [
    "train_users_raw = train_users_raw.join(session_time, train_users_raw[\"id\"] == session_time[\"user_id\"],how='left_outer').select(train_users_raw[\"*\"],session_time[\"sum_secs_elapsed\"])"
   ]
  },
  {
   "cell_type": "code",
   "execution_count": 15,
   "metadata": {
    "collapsed": false,
    "jupyter": {
     "outputs_hidden": false,
     "source_hidden": false
    },
    "nteract": {
     "transient": {
      "deleting": false
     }
    }
   },
   "outputs": [
    {
     "name": "stdout",
     "output_type": "stream",
     "text": [
      "+----------+--------------------+----------------------+------------------+---------+----+-------------+-----------+--------+-----------------+------------------+-----------------------+----------+-----------------+-------------+-------------------+----------------+\n",
      "|        id|date_account_created|timestamp_first_active|date_first_booking|   gender| age|signup_method|signup_flow|language|affiliate_channel|affiliate_provider|first_affiliate_tracked|signup_app|first_device_type|first_browser|country_destination|sum_secs_elapsed|\n",
      "+----------+--------------------+----------------------+------------------+---------+----+-------------+-----------+--------+-----------------+------------------+-----------------------+----------+-----------------+-------------+-------------------+----------------+\n",
      "|01r3iatdvv|          2014-02-11|        20140211202128|        2014-02-12|-unknown-|null|        basic|        0.0|      en|           direct|            direct|              untracked|       Web|      Mac Desktop|       Chrome|                 US|        813485.0|\n",
      "|02sgboyndc|          2014-04-29|        20140429213851|              null|-unknown-|null|        basic|        0.0|      en|        sem-brand|            google|              untracked|       Web|      Mac Desktop|       Safari|                NDF|        758902.0|\n",
      "|03c7ihv5r8|          2014-05-07|        20140507223046|              null|     MALE|47.0|     facebook|        0.0|      en|        sem-brand|            google|                    omg|       Web|  Windows Desktop|           IE|                NDF|       3003287.0|\n",
      "|05xkkfxs5v|          2014-04-06|        20140406183244|              null|     MALE|26.0|     facebook|        0.0|      en|      remarketing|            google|              untracked|       Web|      Mac Desktop|       Chrome|                NDF|        106376.0|\n",
      "|08bys9zpkj|          2013-07-04|        20130704223816|              null|   FEMALE|50.0|     facebook|        0.0|      en|    sem-non-brand|            google|              untracked|       Web|      Mac Desktop|       Safari|                NDF|            null|\n",
      "+----------+--------------------+----------------------+------------------+---------+----+-------------+-----------+--------+-----------------+------------------+-----------------------+----------+-----------------+-------------+-------------------+----------------+\n",
      "only showing top 5 rows\n",
      "\n"
     ]
    }
   ],
   "source": [
    "train_users_raw.show(5)"
   ]
  },
  {
   "cell_type": "code",
   "execution_count": 16,
   "metadata": {
    "collapsed": false,
    "jupyter": {
     "outputs_hidden": false,
     "source_hidden": false
    },
    "nteract": {
     "transient": {
      "deleting": false
     }
    }
   },
   "outputs": [
    {
     "data": {
      "text/plain": [
       "213451"
      ]
     },
     "execution_count": 16,
     "metadata": {},
     "output_type": "execute_result"
    }
   ],
   "source": [
    "train_users_raw.count()"
   ]
  },
  {
   "cell_type": "markdown",
   "metadata": {
    "nteract": {
     "transient": {
      "deleting": false
     }
    }
   },
   "source": [
    "## Extracting the month of the account creation, and converting gender to lower case"
   ]
  },
  {
   "cell_type": "code",
   "execution_count": 17,
   "metadata": {
    "collapsed": false,
    "jupyter": {
     "outputs_hidden": false,
     "source_hidden": false
    },
    "nteract": {
     "transient": {
      "deleting": false
     }
    }
   },
   "outputs": [],
   "source": [
    "from pyspark.sql.functions import year, month, lower, col\n",
    "train_users_raw = train_users_raw.withColumn(\"month_account_created\", month(\"date_account_created\"))\n",
    "train_users_raw = train_users_raw.withColumn(\"gender\", lower(col('gender')))"
   ]
  },
  {
   "cell_type": "markdown",
   "metadata": {
    "nteract": {
     "transient": {
      "deleting": false
     }
    }
   },
   "source": [
    "## Dropping unneeded columns from train_users dataset\n",
    "#### we dropped the dates (date_account_created, timestamp_first_active) but retained the month from date_account_created to account for any seasonal changes.\n",
    "#### we droped date_first_booking because it is meaningless considering that our test users never made a booking.\n",
    "#### we dropped first_affiliate_tracked because the two other columns affiliate_channel and affiliate_provider provide enough information about the affiliate.\n",
    "#### we dropped first_browser because it had too many categories and we already know the signup_app and first_device_type."
   ]
  },
  {
   "cell_type": "code",
   "execution_count": 18,
   "metadata": {
    "collapsed": false,
    "jupyter": {
     "outputs_hidden": false,
     "source_hidden": false
    },
    "nteract": {
     "transient": {
      "deleting": false
     }
    }
   },
   "outputs": [],
   "source": [
    "train_columnsToDrop = ['id', 'date_account_created', 'timestamp_first_active', 'date_first_booking', 'first_affiliate_tracked', 'first_browser']\n",
    "\n",
    "train_users_raw = train_users_raw.select([column for column in train_users_raw.columns if column not in train_columnsToDrop])"
   ]
  },
  {
   "cell_type": "code",
   "execution_count": 19,
   "metadata": {
    "nteract": {
     "transient": {
      "deleting": false
     }
    }
   },
   "outputs": [
    {
     "name": "stdout",
     "output_type": "stream",
     "text": [
      "+---------+----+-------------+-----------+--------+-----------------+------------------+----------+-----------------+-------------------+----------------+---------------------+\n",
      "|   gender| age|signup_method|signup_flow|language|affiliate_channel|affiliate_provider|signup_app|first_device_type|country_destination|sum_secs_elapsed|month_account_created|\n",
      "+---------+----+-------------+-----------+--------+-----------------+------------------+----------+-----------------+-------------------+----------------+---------------------+\n",
      "|-unknown-|null|        basic|        0.0|      en|           direct|            direct|       Web|      Mac Desktop|                 US|        813485.0|                    2|\n",
      "|-unknown-|null|        basic|        0.0|      en|        sem-brand|            google|       Web|      Mac Desktop|                NDF|        758902.0|                    4|\n",
      "|     male|47.0|     facebook|        0.0|      en|        sem-brand|            google|       Web|  Windows Desktop|                NDF|       3003287.0|                    5|\n",
      "|     male|26.0|     facebook|        0.0|      en|      remarketing|            google|       Web|      Mac Desktop|                NDF|        106376.0|                    4|\n",
      "|   female|50.0|     facebook|        0.0|      en|    sem-non-brand|            google|       Web|      Mac Desktop|                NDF|            null|                    7|\n",
      "+---------+----+-------------+-----------+--------+-----------------+------------------+----------+-----------------+-------------------+----------------+---------------------+\n",
      "only showing top 5 rows\n",
      "\n"
     ]
    }
   ],
   "source": [
    "train_users_raw.show(5)"
   ]
  },
  {
   "cell_type": "markdown",
   "metadata": {
    "nteract": {
     "transient": {
      "deleting": false
     }
    }
   },
   "source": [
    "## Finding categorical columns\n",
    "#### We will exclude the last column from this list because it is the label column and we will pass this list in the one hot encoder later."
   ]
  },
  {
   "cell_type": "code",
   "execution_count": 20,
   "metadata": {
    "collapsed": false,
    "jupyter": {
     "outputs_hidden": false,
     "source_hidden": false
    },
    "nteract": {
     "transient": {
      "deleting": false
     }
    }
   },
   "outputs": [
    {
     "data": {
      "text/plain": [
       "['gender',\n",
       " 'signup_method',\n",
       " 'language',\n",
       " 'affiliate_channel',\n",
       " 'affiliate_provider',\n",
       " 'signup_app',\n",
       " 'first_device_type']"
      ]
     },
     "execution_count": 20,
     "metadata": {},
     "output_type": "execute_result"
    }
   ],
   "source": [
    "cat_cols = [item[0] for item in train_users_raw.dtypes if item[1].startswith('string')] \n",
    "cat_cols.pop(-1)\n",
    "cat_cols"
   ]
  },
  {
   "cell_type": "markdown",
   "metadata": {
    "nteract": {
     "transient": {
      "deleting": false
     }
    }
   },
   "source": [
    "## Finding numerical columns"
   ]
  },
  {
   "cell_type": "code",
   "execution_count": 21,
   "metadata": {
    "collapsed": false,
    "jupyter": {
     "outputs_hidden": false,
     "source_hidden": false
    },
    "nteract": {
     "transient": {
      "deleting": false
     }
    }
   },
   "outputs": [
    {
     "data": {
      "text/plain": [
       "['age', 'signup_flow', 'sum_secs_elapsed', 'month_account_created']"
      ]
     },
     "execution_count": 21,
     "metadata": {},
     "output_type": "execute_result"
    }
   ],
   "source": [
    "num_cols = [item[0] for item in train_users_raw.dtypes if item[1].startswith('int') | item[1].startswith('double') | item[1].startswith('float')] \n",
    "num_cols"
   ]
  },
  {
   "cell_type": "markdown",
   "metadata": {
    "nteract": {
     "transient": {
      "deleting": false
     }
    }
   },
   "source": [
    "## Finding which columns contain null or unknown values\n",
    "#### No nulls found in categorical columns"
   ]
  },
  {
   "cell_type": "code",
   "execution_count": 22,
   "metadata": {
    "collapsed": false,
    "jupyter": {
     "outputs_hidden": false,
     "source_hidden": false
    },
    "nteract": {
     "transient": {
      "deleting": false
     }
    }
   },
   "outputs": [
    {
     "data": {
      "text/plain": [
       "[]"
      ]
     },
     "execution_count": 22,
     "metadata": {},
     "output_type": "execute_result"
    }
   ],
   "source": [
    "from pyspark.sql.functions import col\n",
    "\n",
    "cat_null_cols = [column for column in cat_cols if train_users_raw.where(col(column).isNull()).count() > 0]\n",
    "cat_null_cols"
   ]
  },
  {
   "cell_type": "markdown",
   "metadata": {
    "nteract": {
     "transient": {
      "deleting": false
     }
    }
   },
   "source": [
    "## Now let's find numerical columns with null values"
   ]
  },
  {
   "cell_type": "code",
   "execution_count": 23,
   "metadata": {
    "collapsed": false,
    "jupyter": {
     "outputs_hidden": false,
     "source_hidden": false
    },
    "nteract": {
     "transient": {
      "deleting": false
     }
    }
   },
   "outputs": [
    {
     "data": {
      "text/plain": [
       "['age', 'signup_flow', 'sum_secs_elapsed']"
      ]
     },
     "execution_count": 23,
     "metadata": {},
     "output_type": "execute_result"
    }
   ],
   "source": [
    "from pyspark.sql.functions import lit\n",
    "num_null_cols = [column for column in num_cols if train_users_raw.filter(col(column).isNull() | col(column).eqNullSafe(0)).count() > 0]\n",
    "num_null_cols"
   ]
  },
  {
   "cell_type": "markdown",
   "metadata": {
    "nteract": {
     "transient": {
      "deleting": false
     }
    }
   },
   "source": [
    "#### Replacing null ages with 0 for now.\n",
    "#### Replacing null web browsing time with 0, because it means the user didn't search\n",
    "#### also replacing null signup_flow values with 0"
   ]
  },
  {
   "cell_type": "code",
   "execution_count": 24,
   "metadata": {
    "collapsed": false,
    "jupyter": {
     "outputs_hidden": false,
     "source_hidden": false
    },
    "nteract": {
     "transient": {
      "deleting": false
     }
    }
   },
   "outputs": [],
   "source": [
    "train_users_raw = train_users_raw.fillna(0, subset=['age'])\n",
    "train_users_raw = train_users_raw.fillna(0, subset=['sum_secs_elapsed'])\n",
    "train_users_raw = train_users_raw.fillna(0, subset=['signup_flow'])"
   ]
  },
  {
   "cell_type": "code",
   "execution_count": 25,
   "metadata": {
    "collapsed": false,
    "jupyter": {
     "outputs_hidden": false,
     "source_hidden": false
    },
    "nteract": {
     "transient": {
      "deleting": false
     }
    }
   },
   "outputs": [
    {
     "name": "stdout",
     "output_type": "stream",
     "text": [
      "+---------+----+-------------+-----------+--------+-----------------+------------------+----------+-----------------+-------------------+----------------+---------------------+\n",
      "|   gender| age|signup_method|signup_flow|language|affiliate_channel|affiliate_provider|signup_app|first_device_type|country_destination|sum_secs_elapsed|month_account_created|\n",
      "+---------+----+-------------+-----------+--------+-----------------+------------------+----------+-----------------+-------------------+----------------+---------------------+\n",
      "|-unknown-| 0.0|        basic|        0.0|      en|           direct|            direct|       Web|      Mac Desktop|                 US|        813485.0|                    2|\n",
      "|-unknown-| 0.0|        basic|        0.0|      en|        sem-brand|            google|       Web|      Mac Desktop|                NDF|        758902.0|                    4|\n",
      "|     male|47.0|     facebook|        0.0|      en|        sem-brand|            google|       Web|  Windows Desktop|                NDF|       3003287.0|                    5|\n",
      "|     male|26.0|     facebook|        0.0|      en|      remarketing|            google|       Web|      Mac Desktop|                NDF|        106376.0|                    4|\n",
      "|   female|50.0|     facebook|        0.0|      en|    sem-non-brand|            google|       Web|      Mac Desktop|                NDF|             0.0|                    7|\n",
      "+---------+----+-------------+-----------+--------+-----------------+------------------+----------+-----------------+-------------------+----------------+---------------------+\n",
      "only showing top 5 rows\n",
      "\n"
     ]
    }
   ],
   "source": [
    "train_users_raw.show(5)"
   ]
  },
  {
   "cell_type": "code",
   "execution_count": 26,
   "metadata": {
    "collapsed": false,
    "jupyter": {
     "outputs_hidden": false,
     "source_hidden": false
    },
    "nteract": {
     "transient": {
      "deleting": false
     }
    }
   },
   "outputs": [
    {
     "name": "stdout",
     "output_type": "stream",
     "text": [
      "+-------+---------+------------------+-------------+------------------+--------+-----------------+------------------+----------+-----------------+-------------------+------------------+---------------------+\n",
      "|summary|   gender|               age|signup_method|       signup_flow|language|affiliate_channel|affiliate_provider|signup_app|first_device_type|country_destination|  sum_secs_elapsed|month_account_created|\n",
      "+-------+---------+------------------+-------------+------------------+--------+-----------------+------------------+----------+-----------------+-------------------+------------------+---------------------+\n",
      "|  count|   213451|            213451|       213451|            213451|  213451|           213451|            213451|    213451|           213451|             213451|            213451|               213451|\n",
      "|   mean|     null| 29.19376812476868|         null|3.2673868944160485|    null|             null|              null|      null|             null|               null| 523648.3010058515|   6.0224594871890975|\n",
      "| stddev|     null|121.82235632889513|         null| 7.637706869435076|    null|             null|              null|      null|             null|               null|1335853.6689385953|     3.23668965044066|\n",
      "|    min|-unknown-|               0.0|        basic|               0.0|      ca|              api|             baidu|   Android|    Android Phone|                 AU|               0.0|                    1|\n",
      "|    max|    other|            2014.0|       google|              25.0|      zh|              seo|            yandex|       iOS|           iPhone|              other|       3.8221363E7|                   12|\n",
      "+-------+---------+------------------+-------------+------------------+--------+-----------------+------------------+----------+-----------------+-------------------+------------------+---------------------+\n",
      "\n"
     ]
    }
   ],
   "source": [
    "train_users_raw.describe().show()"
   ]
  },
  {
   "cell_type": "markdown",
   "metadata": {
    "nteract": {
     "transient": {
      "deleting": false
     }
    }
   },
   "source": [
    "## Correcting age values\n",
    "#### for now, we will set all ages below 14 and above 90 to 0\n",
    "#### if the age is between 1940 and 2001 we assumed that it was the date of birth and calculated the age = 2015 - date of birth.\n",
    "#### all other values are set to 0."
   ]
  },
  {
   "cell_type": "code",
   "execution_count": 27,
   "metadata": {
    "collapsed": false,
    "jupyter": {
     "outputs_hidden": false,
     "source_hidden": false
    },
    "nteract": {
     "transient": {
      "deleting": false
     }
    }
   },
   "outputs": [],
   "source": [
    "from pyspark.sql.functions import udf\n",
    "def age_corrector(age):\n",
    "    if age > 13 and age < 90:\n",
    "        return age\n",
    "    elif age > 1940 and age <2001:\n",
    "        return 2015.0-age\n",
    "    else:\n",
    "        return 0.0\n",
    "correct_age = udf(age_corrector)"
   ]
  },
  {
   "cell_type": "code",
   "execution_count": 28,
   "metadata": {
    "collapsed": false,
    "jupyter": {
     "outputs_hidden": false,
     "source_hidden": false
    },
    "nteract": {
     "transient": {
      "deleting": false
     }
    }
   },
   "outputs": [
    {
     "name": "stdout",
     "output_type": "stream",
     "text": [
      "+---------+----+-------------+-----------+--------+-----------------+------------------+----------+-----------------+-------------------+----------------+---------------------+\n",
      "|   gender| age|signup_method|signup_flow|language|affiliate_channel|affiliate_provider|signup_app|first_device_type|country_destination|sum_secs_elapsed|month_account_created|\n",
      "+---------+----+-------------+-----------+--------+-----------------+------------------+----------+-----------------+-------------------+----------------+---------------------+\n",
      "|-unknown-| 0.0|        basic|        0.0|      en|           direct|            direct|       Web|      Mac Desktop|                 US|        813485.0|                    2|\n",
      "|-unknown-| 0.0|        basic|        0.0|      en|        sem-brand|            google|       Web|      Mac Desktop|                NDF|        758902.0|                    4|\n",
      "|     male|47.0|     facebook|        0.0|      en|        sem-brand|            google|       Web|  Windows Desktop|                NDF|       3003287.0|                    5|\n",
      "|     male|26.0|     facebook|        0.0|      en|      remarketing|            google|       Web|      Mac Desktop|                NDF|        106376.0|                    4|\n",
      "|   female|50.0|     facebook|        0.0|      en|    sem-non-brand|            google|       Web|      Mac Desktop|                NDF|             0.0|                    7|\n",
      "|-unknown-| 0.0|        basic|        0.0|      en|           direct|            direct|       Web|      Mac Desktop|              other|             0.0|                    3|\n",
      "|     male|41.0|        basic|       25.0|      en|           direct|            direct|       iOS|           iPhone|                NDF|             0.0|                   10|\n",
      "|-unknown-| 0.0|        basic|        2.0|      en|           direct|            direct|       Web|           iPhone|                NDF|             0.0|                    2|\n",
      "|   female|53.0|        basic|        0.0|      en|        sem-brand|            google|       Web|      Mac Desktop|                NDF|             0.0|                    1|\n",
      "|     male|49.0|     facebook|        0.0|      en|           direct|            direct|       Web|      Mac Desktop|                NDF|         21549.0|                    3|\n",
      "|-unknown-| 0.0|        basic|        0.0|      fr|        sem-brand|            google|       Web|      Mac Desktop|                NDF|             0.0|                    4|\n",
      "|-unknown-| 0.0|        basic|        0.0|      en|           direct|            direct|       Web|      Mac Desktop|                NDF|        518880.0|                    5|\n",
      "|-unknown-| 0.0|        basic|        0.0|      en|        sem-brand|            google|       Web|      Mac Desktop|                NDF|       2609554.0|                    4|\n",
      "|     male|29.0|        basic|       25.0|      en|           direct|            direct|       iOS|    Other/Unknown|              other|             0.0|                   12|\n",
      "|   female|54.0|        basic|        0.0|      en|           direct|            direct|       Web|      Mac Desktop|                 US|             0.0|                    8|\n",
      "|     male|33.0|     facebook|        0.0|      en|        sem-brand|            google|       Web|      Mac Desktop|                NDF|             0.0|                    4|\n",
      "|     male|26.0|     facebook|        0.0|      en|           direct|            direct|       Web|  Windows Desktop|              other|             0.0|                    5|\n",
      "|-unknown-| 0.0|       google|       12.0|      en|           direct|            direct|   Android|    Android Phone|                NDF|          8773.0|                    5|\n",
      "|-unknown-| 0.0|        basic|        3.0|      en|           direct|            direct|       Web|      Mac Desktop|                 US|             0.0|                    6|\n",
      "|-unknown-| 0.0|        basic|        0.0|      en|           direct|            direct|       Web|      Mac Desktop|                NDF|             0.0|                    4|\n",
      "+---------+----+-------------+-----------+--------+-----------------+------------------+----------+-----------------+-------------------+----------------+---------------------+\n",
      "only showing top 20 rows\n",
      "\n"
     ]
    }
   ],
   "source": [
    "train_users_raw = train_users_raw.withColumn(\"age\", correct_age(train_users_raw['age']))\n",
    "train_users_raw.show()"
   ]
  },
  {
   "cell_type": "markdown",
   "metadata": {},
   "source": [
    "#### We know that all the test users are from usa so we will calculate the mean age of usa citizens"
   ]
  },
  {
   "cell_type": "code",
   "execution_count": 29,
   "metadata": {},
   "outputs": [
    {
     "data": {
      "text/plain": [
       "38.132346247062735"
      ]
     },
     "execution_count": 29,
     "metadata": {},
     "output_type": "execute_result"
    }
   ],
   "source": [
    "import pandas as pd\n",
    "age_gender_bkts = pd.read_csv('./Dataset/age_gender_bkts.csv')\n",
    "age_gender_bkts = age_gender_bkts[age_gender_bkts.country_destination == 'US']\n",
    "sum_age_times_population_in_thousands = 0\n",
    "for index,row in age_gender_bkts.iterrows():\n",
    "    if '+' in row['age_bucket']:\n",
    "        sum_age_times_population_in_thousands += 100*row['population_in_thousands']\n",
    "    else:\n",
    "        age_split = [int(i) for i in row['age_bucket'].split('-')]\n",
    "        mean_age_for_bucket = (age_split[0]+age_split[1])/2\n",
    "        sum_age_times_population_in_thousands += mean_age_for_bucket*row['population_in_thousands']\n",
    "mean_age = sum_age_times_population_in_thousands/age_gender_bkts.population_in_thousands.sum() \n",
    "mean_age"
   ]
  },
  {
   "cell_type": "markdown",
   "metadata": {},
   "source": [
    "#### We will replace all 0 values with the mean_age for usa"
   ]
  },
  {
   "cell_type": "code",
   "execution_count": 30,
   "metadata": {},
   "outputs": [],
   "source": [
    "correct_zero_age = udf(lambda value: value+float(round(mean_age)) if value == 0.0 else value, FloatType())\n",
    "train_users_raw = train_users_raw.withColumn(\"age\", correct_zero_age(train_users_raw['age']))"
   ]
  },
  {
   "cell_type": "code",
   "execution_count": 31,
   "metadata": {
    "collapsed": false,
    "jupyter": {
     "outputs_hidden": false,
     "source_hidden": false
    },
    "nteract": {
     "transient": {
      "deleting": false
     }
    }
   },
   "outputs": [
    {
     "name": "stdout",
     "output_type": "stream",
     "text": [
      "+---------+----+-------------+-----------+--------+-----------------+------------------+----------+-----------------+-------------------+----------------+---------------------+\n",
      "|   gender| age|signup_method|signup_flow|language|affiliate_channel|affiliate_provider|signup_app|first_device_type|country_destination|sum_secs_elapsed|month_account_created|\n",
      "+---------+----+-------------+-----------+--------+-----------------+------------------+----------+-----------------+-------------------+----------------+---------------------+\n",
      "|-unknown-|38.0|        basic|        0.0|      en|           direct|            direct|       Web|      Mac Desktop|                 US|        813485.0|                    2|\n",
      "|-unknown-|38.0|        basic|        0.0|      en|        sem-brand|            google|       Web|      Mac Desktop|                NDF|        758902.0|                    4|\n",
      "|     male|47.0|     facebook|        0.0|      en|        sem-brand|            google|       Web|  Windows Desktop|                NDF|       3003287.0|                    5|\n",
      "|     male|26.0|     facebook|        0.0|      en|      remarketing|            google|       Web|      Mac Desktop|                NDF|        106376.0|                    4|\n",
      "|   female|50.0|     facebook|        0.0|      en|    sem-non-brand|            google|       Web|      Mac Desktop|                NDF|             0.0|                    7|\n",
      "|-unknown-|38.0|        basic|        0.0|      en|           direct|            direct|       Web|      Mac Desktop|              other|             0.0|                    3|\n",
      "|     male|41.0|        basic|       25.0|      en|           direct|            direct|       iOS|           iPhone|                NDF|             0.0|                   10|\n",
      "|-unknown-|38.0|        basic|        2.0|      en|           direct|            direct|       Web|           iPhone|                NDF|             0.0|                    2|\n",
      "|   female|53.0|        basic|        0.0|      en|        sem-brand|            google|       Web|      Mac Desktop|                NDF|             0.0|                    1|\n",
      "|     male|49.0|     facebook|        0.0|      en|           direct|            direct|       Web|      Mac Desktop|                NDF|         21549.0|                    3|\n",
      "|-unknown-|38.0|        basic|        0.0|      fr|        sem-brand|            google|       Web|      Mac Desktop|                NDF|             0.0|                    4|\n",
      "|-unknown-|38.0|        basic|        0.0|      en|           direct|            direct|       Web|      Mac Desktop|                NDF|        518880.0|                    5|\n",
      "|-unknown-|38.0|        basic|        0.0|      en|        sem-brand|            google|       Web|      Mac Desktop|                NDF|       2609554.0|                    4|\n",
      "|     male|29.0|        basic|       25.0|      en|           direct|            direct|       iOS|    Other/Unknown|              other|             0.0|                   12|\n",
      "|   female|54.0|        basic|        0.0|      en|           direct|            direct|       Web|      Mac Desktop|                 US|             0.0|                    8|\n",
      "|     male|33.0|     facebook|        0.0|      en|        sem-brand|            google|       Web|      Mac Desktop|                NDF|             0.0|                    4|\n",
      "|     male|26.0|     facebook|        0.0|      en|           direct|            direct|       Web|  Windows Desktop|              other|             0.0|                    5|\n",
      "|-unknown-|38.0|       google|       12.0|      en|           direct|            direct|   Android|    Android Phone|                NDF|          8773.0|                    5|\n",
      "|-unknown-|38.0|        basic|        3.0|      en|           direct|            direct|       Web|      Mac Desktop|                 US|             0.0|                    6|\n",
      "|-unknown-|38.0|        basic|        0.0|      en|           direct|            direct|       Web|      Mac Desktop|                NDF|             0.0|                    4|\n",
      "+---------+----+-------------+-----------+--------+-----------------+------------------+----------+-----------------+-------------------+----------------+---------------------+\n",
      "only showing top 20 rows\n",
      "\n"
     ]
    }
   ],
   "source": [
    "train_users_raw.show()"
   ]
  },
  {
   "cell_type": "markdown",
   "metadata": {},
   "source": [
    "## Bulding a pipeline to encode features"
   ]
  },
  {
   "cell_type": "code",
   "execution_count": 32,
   "metadata": {
    "collapsed": false,
    "jupyter": {
     "outputs_hidden": false,
     "source_hidden": false
    },
    "nteract": {
     "transient": {
      "deleting": false
     }
    }
   },
   "outputs": [
    {
     "name": "stdout",
     "output_type": "stream",
     "text": [
      "+---------+----+-------------+-----------+--------+-----------------+------------------+----------+-----------------+-------------------+----------------+---------------------+-------------------------+--------------+---------------------+--------------------------+-------------------------+------------------+----------------+\n",
      "|   gender| age|signup_method|signup_flow|language|affiliate_channel|affiliate_provider|signup_app|first_device_type|country_destination|sum_secs_elapsed|month_account_created|affiliate_channel_encoded|gender_encoded|signup_method_encoded|affiliate_provider_encoded|first_device_type_encoded|signup_app_encoded|language_encoded|\n",
      "+---------+----+-------------+-----------+--------+-----------------+------------------+----------+-----------------+-------------------+----------------+---------------------+-------------------------+--------------+---------------------+--------------------------+-------------------------+------------------+----------------+\n",
      "|-unknown-|38.0|        basic|        0.0|      en|           direct|            direct|       Web|      Mac Desktop|                 US|        813485.0|                    2|            (8,[0],[1.0])| (4,[0],[1.0])|        (3,[0],[1.0])|            (18,[0],[1.0])|            (9,[0],[1.0])|     (4,[0],[1.0])|  (25,[0],[1.0])|\n",
      "|-unknown-|38.0|        basic|        0.0|      en|        sem-brand|            google|       Web|      Mac Desktop|                NDF|        758902.0|                    4|            (8,[1],[1.0])| (4,[0],[1.0])|        (3,[0],[1.0])|            (18,[1],[1.0])|            (9,[0],[1.0])|     (4,[0],[1.0])|  (25,[0],[1.0])|\n",
      "|     male|47.0|     facebook|        0.0|      en|        sem-brand|            google|       Web|  Windows Desktop|                NDF|       3003287.0|                    5|            (8,[1],[1.0])| (4,[2],[1.0])|        (3,[1],[1.0])|            (18,[1],[1.0])|            (9,[1],[1.0])|     (4,[0],[1.0])|  (25,[0],[1.0])|\n",
      "|     male|26.0|     facebook|        0.0|      en|      remarketing|            google|       Web|      Mac Desktop|                NDF|        106376.0|                    4|            (8,[7],[1.0])| (4,[2],[1.0])|        (3,[1],[1.0])|            (18,[1],[1.0])|            (9,[0],[1.0])|     (4,[0],[1.0])|  (25,[0],[1.0])|\n",
      "|   female|50.0|     facebook|        0.0|      en|    sem-non-brand|            google|       Web|      Mac Desktop|                NDF|             0.0|                    7|            (8,[2],[1.0])| (4,[1],[1.0])|        (3,[1],[1.0])|            (18,[1],[1.0])|            (9,[0],[1.0])|     (4,[0],[1.0])|  (25,[0],[1.0])|\n",
      "+---------+----+-------------+-----------+--------+-----------------+------------------+----------+-----------------+-------------------+----------------+---------------------+-------------------------+--------------+---------------------+--------------------------+-------------------------+------------------+----------------+\n",
      "only showing top 5 rows\n",
      "\n"
     ]
    }
   ],
   "source": [
    "from pyspark.ml.feature import StringIndexer, OneHotEncoderEstimator\n",
    "from pyspark.ml import Pipeline\n",
    "indexers = [StringIndexer(inputCol=column,outputCol=column + '_indexed', handleInvalid='keep') for column in cat_cols]\n",
    "encoder = OneHotEncoderEstimator(inputCols=[column+'_indexed' for column in cat_cols], outputCols=[column+'_encoded' for column in cat_cols])\n",
    "pipeline = Pipeline(stages=indexers + [encoder])\n",
    "pipeline = pipeline.fit(train_users_raw)\n",
    "train_users_raw = pipeline.transform(train_users_raw)\n",
    "train_users_raw = train_users_raw.drop(*[column+'_indexed' for column in cat_cols])\n",
    "train_users_raw.fillna(0.0)\n",
    "train_users_raw.show(5)"
   ]
  },
  {
   "cell_type": "markdown",
   "metadata": {},
   "source": [
    "## Assembling the feature vector for the training dataset"
   ]
  },
  {
   "cell_type": "code",
   "execution_count": 33,
   "metadata": {
    "collapsed": false,
    "jupyter": {
     "outputs_hidden": false,
     "source_hidden": false
    },
    "nteract": {
     "transient": {
      "deleting": false
     }
    }
   },
   "outputs": [
    {
     "name": "stdout",
     "output_type": "stream",
     "text": [
      "+---------+----+-------------+-----------+--------+-----------------+------------------+----------+-----------------+-------------------+----------------+---------------------+-------------------------+--------------+---------------------+--------------------------+-------------------------+------------------+----------------+--------------------+\n",
      "|   gender| age|signup_method|signup_flow|language|affiliate_channel|affiliate_provider|signup_app|first_device_type|country_destination|sum_secs_elapsed|month_account_created|affiliate_channel_encoded|gender_encoded|signup_method_encoded|affiliate_provider_encoded|first_device_type_encoded|signup_app_encoded|language_encoded|            features|\n",
      "+---------+----+-------------+-----------+--------+-----------------+------------------+----------+-----------------+-------------------+----------------+---------------------+-------------------------+--------------+---------------------+--------------------------+-------------------------+------------------+----------------+--------------------+\n",
      "|-unknown-|38.0|        basic|        0.0|      en|           direct|            direct|       Web|      Mac Desktop|                 US|        813485.0|                    2|            (8,[0],[1.0])| (4,[0],[1.0])|        (3,[0],[1.0])|            (18,[0],[1.0])|            (9,[0],[1.0])|     (4,[0],[1.0])|  (25,[0],[1.0])|(75,[0,2,3,4,12,1...|\n",
      "|-unknown-|38.0|        basic|        0.0|      en|        sem-brand|            google|       Web|      Mac Desktop|                NDF|        758902.0|                    4|            (8,[1],[1.0])| (4,[0],[1.0])|        (3,[0],[1.0])|            (18,[1],[1.0])|            (9,[0],[1.0])|     (4,[0],[1.0])|  (25,[0],[1.0])|(75,[0,2,3,5,12,1...|\n",
      "|     male|47.0|     facebook|        0.0|      en|        sem-brand|            google|       Web|  Windows Desktop|                NDF|       3003287.0|                    5|            (8,[1],[1.0])| (4,[2],[1.0])|        (3,[1],[1.0])|            (18,[1],[1.0])|            (9,[1],[1.0])|     (4,[0],[1.0])|  (25,[0],[1.0])|(75,[0,2,3,5,14,1...|\n",
      "|     male|26.0|     facebook|        0.0|      en|      remarketing|            google|       Web|      Mac Desktop|                NDF|        106376.0|                    4|            (8,[7],[1.0])| (4,[2],[1.0])|        (3,[1],[1.0])|            (18,[1],[1.0])|            (9,[0],[1.0])|     (4,[0],[1.0])|  (25,[0],[1.0])|(75,[0,2,3,11,14,...|\n",
      "|   female|50.0|     facebook|        0.0|      en|    sem-non-brand|            google|       Web|      Mac Desktop|                NDF|             0.0|                    7|            (8,[2],[1.0])| (4,[1],[1.0])|        (3,[1],[1.0])|            (18,[1],[1.0])|            (9,[0],[1.0])|     (4,[0],[1.0])|  (25,[0],[1.0])|(75,[0,3,6,13,17,...|\n",
      "+---------+----+-------------+-----------+--------+-----------------+------------------+----------+-----------------+-------------------+----------------+---------------------+-------------------------+--------------+---------------------+--------------------------+-------------------------+------------------+----------------+--------------------+\n",
      "only showing top 5 rows\n",
      "\n"
     ]
    }
   ],
   "source": [
    "from pyspark.ml.feature import VectorAssembler\n",
    "train_users_raw = train_users_raw.withColumn(\"age\", train_users_raw[\"age\"].cast(FloatType()))\n",
    "\n",
    "assembler = VectorAssembler(inputCols=[i for i in train_users_raw.columns if (i !='country_destination') and (i not in cat_cols)], outputCol='features')\n",
    "train_users_raw = assembler.transform(train_users_raw)\n",
    "\n",
    "train_users_raw.show(5)"
   ]
  },
  {
   "cell_type": "markdown",
   "metadata": {},
   "source": [
    "## Converting the label column and perserving the mappings it produced\n",
    "#### We created a dictionary of each country and the label it's mapped to"
   ]
  },
  {
   "cell_type": "code",
   "execution_count": 34,
   "metadata": {
    "collapsed": false,
    "jupyter": {
     "outputs_hidden": false,
     "source_hidden": false
    },
    "nteract": {
     "transient": {
      "deleting": false
     }
    }
   },
   "outputs": [
    {
     "data": {
      "text/plain": [
       "{10: 'AU',\n",
       " 7: 'CA',\n",
       " 8: 'DE',\n",
       " 6: 'ES',\n",
       " 3: 'FR',\n",
       " 5: 'GB',\n",
       " 4: 'IT',\n",
       " 0: 'NDF',\n",
       " 9: 'NL',\n",
       " 11: 'PT',\n",
       " 1: 'US',\n",
       " 2: 'other'}"
      ]
     },
     "execution_count": 34,
     "metadata": {},
     "output_type": "execute_result"
    }
   ],
   "source": [
    "indexer = StringIndexer(inputCol='country_destination', outputCol='label')\n",
    "train_users_raw = indexer.fit(train_users_raw).transform(train_users_raw)\n",
    "label_keys = sorted(set([(i[0], i[1]) for i in train_users_raw.select(train_users_raw.country_destination, train_users_raw.label).collect()]), key=lambda x: x[0])\n",
    "label_keys = {int(i[1]):i[0] for i in label_keys}\n",
    "label_keys"
   ]
  },
  {
   "cell_type": "markdown",
   "metadata": {},
   "source": [
    "## The processed training set"
   ]
  },
  {
   "cell_type": "code",
   "execution_count": 35,
   "metadata": {
    "collapsed": false,
    "jupyter": {
     "outputs_hidden": false,
     "source_hidden": false
    },
    "nteract": {
     "transient": {
      "deleting": false
     }
    }
   },
   "outputs": [
    {
     "name": "stdout",
     "output_type": "stream",
     "text": [
      "+--------------------+-----+\n",
      "|            features|label|\n",
      "+--------------------+-----+\n",
      "|(75,[0,2,3,4,12,1...|  1.0|\n",
      "|(75,[0,2,3,5,12,1...|  0.0|\n",
      "|(75,[0,2,3,5,14,1...|  0.0|\n",
      "|(75,[0,2,3,11,14,...|  0.0|\n",
      "|(75,[0,3,6,13,17,...|  0.0|\n",
      "|(75,[0,3,4,12,16,...|  2.0|\n",
      "|(75,[0,1,3,4,14,1...|  0.0|\n",
      "|(75,[0,1,3,4,12,1...|  0.0|\n",
      "|(75,[0,3,5,13,16,...|  0.0|\n",
      "|(75,[0,2,3,4,14,1...|  0.0|\n",
      "|(75,[0,3,5,12,16,...|  0.0|\n",
      "|(75,[0,2,3,4,12,1...|  0.0|\n",
      "|(75,[0,2,3,5,12,1...|  0.0|\n",
      "|(75,[0,1,3,4,14,1...|  2.0|\n",
      "|(75,[0,3,4,13,16,...|  1.0|\n",
      "|(75,[0,3,5,14,17,...|  0.0|\n",
      "|(75,[0,3,4,14,17,...|  2.0|\n",
      "|(75,[0,1,2,3,4,12...|  0.0|\n",
      "|(75,[0,1,3,4,12,1...|  1.0|\n",
      "|(75,[0,3,4,12,16,...|  0.0|\n",
      "+--------------------+-----+\n",
      "only showing top 20 rows\n",
      "\n"
     ]
    }
   ],
   "source": [
    "train_users_raw.select('features', 'label').show()"
   ]
  },
  {
   "cell_type": "markdown",
   "metadata": {},
   "source": [
    "## Loading and processing the test set, following the same steps done on the training set"
   ]
  },
  {
   "cell_type": "code",
   "execution_count": 36,
   "metadata": {
    "collapsed": false,
    "jupyter": {
     "outputs_hidden": false,
     "source_hidden": false
    },
    "nteract": {
     "transient": {
      "deleting": false
     }
    }
   },
   "outputs": [
    {
     "name": "stdout",
     "output_type": "stream",
     "text": [
      "+--------------------+\n",
      "|            features|\n",
      "+--------------------+\n",
      "|(75,[0,1,2,3,4,12...|\n",
      "|(75,[0,2,3,4,12,1...|\n",
      "|(75,[0,1,2,3,4,12...|\n",
      "|(75,[0,2,3,4,14,1...|\n",
      "|(75,[0,1,2,3,4,12...|\n",
      "|(75,[0,2,3,4,13,1...|\n",
      "|(75,[0,2,3,4,13,1...|\n",
      "|(75,[0,2,3,4,14,1...|\n",
      "|(75,[0,2,3,5,12,1...|\n",
      "|(75,[0,1,2,3,4,13...|\n",
      "|(75,[0,1,2,3,4,12...|\n",
      "|(75,[0,2,3,5,12,1...|\n",
      "|(75,[0,2,3,4,12,1...|\n",
      "|(75,[0,2,3,4,12,1...|\n",
      "|(75,[0,2,3,4,14,1...|\n",
      "|(75,[0,1,3,4,12,1...|\n",
      "|(75,[0,2,3,4,13,1...|\n",
      "|(75,[0,2,3,8,12,1...|\n",
      "|(75,[0,1,2,3,4,13...|\n",
      "|(75,[0,2,3,4,12,1...|\n",
      "+--------------------+\n",
      "only showing top 20 rows\n",
      "\n"
     ]
    }
   ],
   "source": [
    "schema_Test_Users = StructType([\n",
    "    StructField(\"id\", StringType(), False),\n",
    "    StructField(\"date_account_created\", DateType(), True),\n",
    "    StructField(\"timestamp_first_active\", StringType(), True),\n",
    "    StructField(\"date_first_booking\", DateType(), True),\n",
    "    StructField(\"gender\", StringType(), True),\n",
    "    StructField(\"age\", FloatType(), True),\n",
    "    StructField(\"signup_method\", StringType(), True),\n",
    "    StructField(\"signup_flow\", FloatType(), True),\n",
    "    StructField(\"language\", StringType(), True),\n",
    "    StructField(\"affiliate_channel\", StringType(), True),\n",
    "    StructField(\"affiliate_provider\", StringType(), True),\n",
    "    StructField(\"first_affiliate_tracked\", StringType(), True),\n",
    "    StructField(\"signup_app\", StringType(), True),\n",
    "    StructField(\"first_device_type\", StringType(), True),\n",
    "    StructField(\"first_browser\", StringType(), True)])\n",
    "\n",
    "test_users_raw = spark.read\\\n",
    "            .format(\"csv\")\\\n",
    "            .schema(schema_Test_Users)\\\n",
    "            .option(\"header\", \"true\")\\\n",
    "            .load(\"./Dataset/test_users.csv\")\n",
    "test_users_raw = test_users_raw.join(session_time, test_users_raw[\"id\"] == session_time[\"user_id\"],how='left_outer').select(test_users_raw[\"*\"],session_time[\"sum_secs_elapsed\"])\n",
    "test_users_raw = test_users_raw.withColumn(\"month_account_created\", month(\"date_account_created\"))\n",
    "test_users_raw = test_users_raw.withColumn(\"gender\", lower(col('gender')))\n",
    "test_users_raw = test_users_raw.select([column for column in test_users_raw.columns if column not in train_columnsToDrop])\n",
    "test_users_raw = test_users_raw.fillna(0, subset=['age'])\n",
    "test_users_raw = test_users_raw.fillna(0, subset=['sum_secs_elapsed'])\n",
    "train_users_raw = train_users_raw.fillna(0, subset=['signup_flow'])\n",
    "test_users_raw = test_users_raw.withColumn(\"age\", correct_age(test_users_raw['age']))\n",
    "test_users_raw = test_users_raw.withColumn(\"age\", correct_zero_age(test_users_raw['age']))\n",
    "test_users_raw = pipeline.transform(test_users_raw)\n",
    "test_users_raw = test_users_raw.drop(*[column+'_indexed' for column in cat_cols])\n",
    "test_users_raw = test_users_raw.withColumn(\"age\", test_users_raw[\"age\"].cast(FloatType()))\n",
    "test_users_raw.fillna(0.0)\n",
    "assembler = VectorAssembler(inputCols=[i for i in test_users_raw.columns if i not in cat_cols], outputCol='features')\n",
    "test_users_raw = assembler.transform(test_users_raw)\n",
    "test_users_raw.select('features').show()"
   ]
  },
  {
   "cell_type": "markdown",
   "metadata": {},
   "source": [
    "## Making a validation dataset"
   ]
  },
  {
   "cell_type": "code",
   "execution_count": 37,
   "metadata": {},
   "outputs": [],
   "source": [
    "(trainingData, validationData) = train_users_raw.randomSplit([0.8,0.2])"
   ]
  },
  {
   "cell_type": "markdown",
   "metadata": {},
   "source": [
    "## Training a Naive Bayes model"
   ]
  },
  {
   "cell_type": "code",
   "execution_count": 38,
   "metadata": {
    "collapsed": false,
    "jupyter": {
     "outputs_hidden": false,
     "source_hidden": false
    },
    "nteract": {
     "transient": {
      "deleting": false
     }
    }
   },
   "outputs": [
    {
     "name": "stdout",
     "output_type": "stream",
     "text": [
      "+----------+--------------------+\n",
      "|prediction|         probability|\n",
      "+----------+--------------------+\n",
      "|       0.0|[0.99863385464899...|\n",
      "|       0.0|[0.99688625623490...|\n",
      "|       4.0|[3.01118406336835...|\n",
      "|       0.0|[0.99992210079689...|\n",
      "|       4.0|[1.21004999050672...|\n",
      "+----------+--------------------+\n",
      "only showing top 5 rows\n",
      "\n"
     ]
    }
   ],
   "source": [
    "from pyspark.ml.classification import NaiveBayes\n",
    "model = NaiveBayes(smoothing=1.0, modelType=\"multinomial\")\n",
    "model = model.fit(trainingData)\n",
    "validation_predictions_naive_bayes = model.transform(validationData)\n",
    "validation_predictions_naive_bayes.select('prediction', 'probability').show(5)"
   ]
  },
  {
   "cell_type": "markdown",
   "metadata": {},
   "source": [
    "## Training a Decision Tree model"
   ]
  },
  {
   "cell_type": "code",
   "execution_count": 39,
   "metadata": {},
   "outputs": [
    {
     "name": "stdout",
     "output_type": "stream",
     "text": [
      "+----------+--------------------+\n",
      "|prediction|         probability|\n",
      "+----------+--------------------+\n",
      "|       1.0|[0.33458177278401...|\n",
      "|       1.0|[0.33458177278401...|\n",
      "|       0.0|[0.43091482649842...|\n",
      "|       0.0|[0.56586536858600...|\n",
      "|       1.0|[0.23264861500155...|\n",
      "+----------+--------------------+\n",
      "only showing top 5 rows\n",
      "\n"
     ]
    }
   ],
   "source": [
    "from pyspark.ml.classification import DecisionTreeClassifier\n",
    "model = DecisionTreeClassifier(labelCol=\"label\", featuresCol=\"features\")\n",
    "model = model.fit(trainingData)\n",
    "validation_predictions_decision_tree = model.transform(validationData)\n",
    "validation_predictions_decision_tree.select('prediction', 'probability').show(5)"
   ]
  },
  {
   "cell_type": "markdown",
   "metadata": {},
   "source": [
    "## Training a random forest model"
   ]
  },
  {
   "cell_type": "code",
   "execution_count": 40,
   "metadata": {
    "collapsed": false,
    "jupyter": {
     "outputs_hidden": false,
     "source_hidden": false
    },
    "nteract": {
     "transient": {
      "deleting": false
     }
    }
   },
   "outputs": [
    {
     "name": "stdout",
     "output_type": "stream",
     "text": [
      "+----------+--------------------+\n",
      "|prediction|         probability|\n",
      "+----------+--------------------+\n",
      "|       0.0|[0.55331596264524...|\n",
      "|       0.0|[0.55331596264524...|\n",
      "|       0.0|[0.55331596264524...|\n",
      "|       0.0|[0.64425651464885...|\n",
      "|       0.0|[0.53348548563742...|\n",
      "+----------+--------------------+\n",
      "only showing top 5 rows\n",
      "\n"
     ]
    }
   ],
   "source": [
    "from pyspark.ml.classification import RandomForestClassifier\n",
    "model = RandomForestClassifier(labelCol=\"label\", featuresCol=\"features\", numTrees=3)\n",
    "model = model.fit(trainingData)\n",
    "validation_predictions_random_forest = model.transform(validationData)\n",
    "validation_predictions_random_forest.select('prediction', 'probability').show(5)"
   ]
  },
  {
   "cell_type": "markdown",
   "metadata": {},
   "source": [
    "## Training a Logistic Regression model"
   ]
  },
  {
   "cell_type": "code",
   "execution_count": 41,
   "metadata": {},
   "outputs": [
    {
     "name": "stdout",
     "output_type": "stream",
     "text": [
      "+----------+\n",
      "|prediction|\n",
      "+----------+\n",
      "|       0.0|\n",
      "|       0.0|\n",
      "|       0.0|\n",
      "|       0.0|\n",
      "|       0.0|\n",
      "+----------+\n",
      "only showing top 5 rows\n",
      "\n"
     ]
    }
   ],
   "source": [
    "from pyspark.ml.classification import LogisticRegression, OneVsRest\n",
    "lr = LogisticRegression(maxIter=10, tol=1E-6, fitIntercept=True)\n",
    "ovr = OneVsRest(classifier=lr)\n",
    "model = ovr.fit(trainingData)\n",
    "validation_predictions_logistic = model.transform(validationData)\n",
    "validation_predictions_logistic.select('prediction').show(5)"
   ]
  },
  {
   "cell_type": "markdown",
   "metadata": {},
   "source": [
    "#### Logistic regression in spark does not produce a probability vector when OneVsAll wrapper is used. For this reason we will ignore it."
   ]
  },
  {
   "cell_type": "markdown",
   "metadata": {},
   "source": [
    "## Converting predictions into arrays and getting an array of true labels"
   ]
  },
  {
   "cell_type": "code",
   "execution_count": 42,
   "metadata": {},
   "outputs": [],
   "source": [
    "import numpy as np\n",
    "y_predict_naive_bayes = validation_predictions_naive_bayes.toPandas().probability.apply(lambda x : np.array(x.toArray())).to_numpy()\n",
    "y_predict_random_forest = validation_predictions_random_forest.toPandas().probability.apply(lambda x : np.array(x.toArray())).to_numpy()\n",
    "y_predict_decision_tree = validation_predictions_decision_tree.toPandas().probability.apply(lambda x : np.array(x.toArray())).to_numpy()\n",
    "y_true = [int(row.label) for row in validationData.select('label').collect()]"
   ]
  },
  {
   "cell_type": "markdown",
   "metadata": {},
   "source": [
    "## Defining the scorer function"
   ]
  },
  {
   "cell_type": "code",
   "execution_count": 43,
   "metadata": {},
   "outputs": [],
   "source": [
    "def scorer(y_true, y_predict):\n",
    "    assert len(y_true) == len(y_predict)\n",
    "    i = 0\n",
    "    scores = []\n",
    "    for j in range(len(y_true)):\n",
    "        score = 0\n",
    "        sorted_labels = np.flip(np.argsort(y_predict[j]))\n",
    "        i=0\n",
    "        while y_true[j] != sorted_labels[i] and i<=4:\n",
    "            score += (2**(0)-1)/(np.log2(i+2))\n",
    "            i+=1\n",
    "        score += (2**(1)-1)/(np.log2(i+2))\n",
    "        scores.append(score)\n",
    "    return np.mean(scores)"
   ]
  },
  {
   "cell_type": "markdown",
   "metadata": {},
   "source": [
    "## Comparing the scores of the three different models"
   ]
  },
  {
   "cell_type": "code",
   "execution_count": 44,
   "metadata": {},
   "outputs": [
    {
     "data": {
      "text/plain": [
       "0.6800715061571634"
      ]
     },
     "execution_count": 44,
     "metadata": {},
     "output_type": "execute_result"
    }
   ],
   "source": [
    "scorer(y_true, y_predict_naive_bayes)"
   ]
  },
  {
   "cell_type": "code",
   "execution_count": 45,
   "metadata": {},
   "outputs": [
    {
     "data": {
      "text/plain": [
       "0.8367975734716555"
      ]
     },
     "execution_count": 45,
     "metadata": {},
     "output_type": "execute_result"
    }
   ],
   "source": [
    "scorer(y_true, y_predict_decision_tree)"
   ]
  },
  {
   "cell_type": "code",
   "execution_count": 46,
   "metadata": {},
   "outputs": [
    {
     "data": {
      "text/plain": [
       "0.8249663422966536"
      ]
     },
     "execution_count": 46,
     "metadata": {},
     "output_type": "execute_result"
    }
   ],
   "source": [
    "scorer(y_true, y_predict_random_forest)"
   ]
  },
  {
   "cell_type": "markdown",
   "metadata": {},
   "source": [
    "#### Based on this we choose random forest\n",
    "## Recap of what we did so far:\n",
    "- We loaded the datasets and cleaned them.\n",
    "- We split the training dataset 80/20 to create a validation dataset.\n",
    "- We created a scoriing function to evaluate the models.\n",
    "- We tested four models on the validation dataset naive bayes, decision tres, random forests and logistic regression\n",
    "- We chose the best performing model\n",
    "- Now we will retrain the model on the entire training dataset and predict the test dataset."
   ]
  },
  {
   "cell_type": "code",
   "execution_count": 47,
   "metadata": {},
   "outputs": [
    {
     "name": "stdout",
     "output_type": "stream",
     "text": [
      "+----------+--------------------+\n",
      "|prediction|         probability|\n",
      "+----------+--------------------+\n",
      "|       0.0|[0.65797674229665...|\n",
      "|       0.0|[0.65797674229665...|\n",
      "|       0.0|[0.51901604309726...|\n",
      "|       0.0|[0.41720552566304...|\n",
      "|       0.0|[0.65797674229665...|\n",
      "+----------+--------------------+\n",
      "only showing top 5 rows\n",
      "\n"
     ]
    }
   ],
   "source": [
    "model = RandomForestClassifier(labelCol=\"label\", featuresCol=\"features\", numTrees=3)\n",
    "model = model.fit(train_users_raw)\n",
    "predictions = model.transform(test_users_raw)\n",
    "predictions.select('prediction', 'probability').show(5)"
   ]
  },
  {
   "cell_type": "code",
   "execution_count": 48,
   "metadata": {},
   "outputs": [],
   "source": [
    "y_predict = predictions.toPandas().probability.apply(lambda x : np.array(x.toArray())).to_numpy()"
   ]
  },
  {
   "cell_type": "code",
   "execution_count": 49,
   "metadata": {},
   "outputs": [],
   "source": [
    "predictions = []\n",
    "for i in range(len(y_predict)):\n",
    "    sorted_labels = np.flip(np.argsort(y_predict[i]))[:5]\n",
    "    predictions.append([label_keys[j] for j in sorted_labels])"
   ]
  },
  {
   "cell_type": "markdown",
   "metadata": {},
   "source": [
    "## Final Predictions"
   ]
  },
  {
   "cell_type": "code",
   "execution_count": 52,
   "metadata": {},
   "outputs": [
    {
     "data": {
      "text/html": [
       "<div>\n",
       "<style scoped>\n",
       "    .dataframe tbody tr th:only-of-type {\n",
       "        vertical-align: middle;\n",
       "    }\n",
       "\n",
       "    .dataframe tbody tr th {\n",
       "        vertical-align: top;\n",
       "    }\n",
       "\n",
       "    .dataframe thead th {\n",
       "        text-align: right;\n",
       "    }\n",
       "</style>\n",
       "<table border=\"1\" class=\"dataframe\">\n",
       "  <thead>\n",
       "    <tr style=\"text-align: right;\">\n",
       "      <th></th>\n",
       "      <th>id</th>\n",
       "      <th>prediction_1</th>\n",
       "      <th>prediction_2</th>\n",
       "      <th>prediction_3</th>\n",
       "      <th>prediction_4</th>\n",
       "      <th>prediction_5</th>\n",
       "    </tr>\n",
       "  </thead>\n",
       "  <tbody>\n",
       "    <tr>\n",
       "      <th>0</th>\n",
       "      <td>5uwns89zht</td>\n",
       "      <td>NDF</td>\n",
       "      <td>US</td>\n",
       "      <td>other</td>\n",
       "      <td>FR</td>\n",
       "      <td>IT</td>\n",
       "    </tr>\n",
       "    <tr>\n",
       "      <th>1</th>\n",
       "      <td>jtl0dijy2j</td>\n",
       "      <td>NDF</td>\n",
       "      <td>US</td>\n",
       "      <td>other</td>\n",
       "      <td>FR</td>\n",
       "      <td>IT</td>\n",
       "    </tr>\n",
       "    <tr>\n",
       "      <th>2</th>\n",
       "      <td>xx0ulgorjt</td>\n",
       "      <td>NDF</td>\n",
       "      <td>US</td>\n",
       "      <td>other</td>\n",
       "      <td>FR</td>\n",
       "      <td>IT</td>\n",
       "    </tr>\n",
       "    <tr>\n",
       "      <th>3</th>\n",
       "      <td>6c6puo6ix0</td>\n",
       "      <td>NDF</td>\n",
       "      <td>US</td>\n",
       "      <td>other</td>\n",
       "      <td>FR</td>\n",
       "      <td>IT</td>\n",
       "    </tr>\n",
       "    <tr>\n",
       "      <th>4</th>\n",
       "      <td>czqhjk3yfe</td>\n",
       "      <td>NDF</td>\n",
       "      <td>US</td>\n",
       "      <td>other</td>\n",
       "      <td>FR</td>\n",
       "      <td>IT</td>\n",
       "    </tr>\n",
       "    <tr>\n",
       "      <th>...</th>\n",
       "      <td>...</td>\n",
       "      <td>...</td>\n",
       "      <td>...</td>\n",
       "      <td>...</td>\n",
       "      <td>...</td>\n",
       "      <td>...</td>\n",
       "    </tr>\n",
       "    <tr>\n",
       "      <th>62091</th>\n",
       "      <td>cv0na2lf5a</td>\n",
       "      <td>NDF</td>\n",
       "      <td>US</td>\n",
       "      <td>other</td>\n",
       "      <td>FR</td>\n",
       "      <td>IT</td>\n",
       "    </tr>\n",
       "    <tr>\n",
       "      <th>62092</th>\n",
       "      <td>zp8xfonng8</td>\n",
       "      <td>NDF</td>\n",
       "      <td>US</td>\n",
       "      <td>other</td>\n",
       "      <td>FR</td>\n",
       "      <td>IT</td>\n",
       "    </tr>\n",
       "    <tr>\n",
       "      <th>62093</th>\n",
       "      <td>fa6260ziny</td>\n",
       "      <td>US</td>\n",
       "      <td>NDF</td>\n",
       "      <td>other</td>\n",
       "      <td>FR</td>\n",
       "      <td>IT</td>\n",
       "    </tr>\n",
       "    <tr>\n",
       "      <th>62094</th>\n",
       "      <td>87k0fy4ugm</td>\n",
       "      <td>NDF</td>\n",
       "      <td>US</td>\n",
       "      <td>other</td>\n",
       "      <td>FR</td>\n",
       "      <td>IT</td>\n",
       "    </tr>\n",
       "    <tr>\n",
       "      <th>62095</th>\n",
       "      <td>9uqfg8txu3</td>\n",
       "      <td>NDF</td>\n",
       "      <td>US</td>\n",
       "      <td>other</td>\n",
       "      <td>FR</td>\n",
       "      <td>GB</td>\n",
       "    </tr>\n",
       "  </tbody>\n",
       "</table>\n",
       "<p>62096 rows × 6 columns</p>\n",
       "</div>"
      ],
      "text/plain": [
       "               id prediction_1 prediction_2 prediction_3 prediction_4  \\\n",
       "0      5uwns89zht          NDF           US        other           FR   \n",
       "1      jtl0dijy2j          NDF           US        other           FR   \n",
       "2      xx0ulgorjt          NDF           US        other           FR   \n",
       "3      6c6puo6ix0          NDF           US        other           FR   \n",
       "4      czqhjk3yfe          NDF           US        other           FR   \n",
       "...           ...          ...          ...          ...          ...   \n",
       "62091  cv0na2lf5a          NDF           US        other           FR   \n",
       "62092  zp8xfonng8          NDF           US        other           FR   \n",
       "62093  fa6260ziny           US          NDF        other           FR   \n",
       "62094  87k0fy4ugm          NDF           US        other           FR   \n",
       "62095  9uqfg8txu3          NDF           US        other           FR   \n",
       "\n",
       "      prediction_5  \n",
       "0               IT  \n",
       "1               IT  \n",
       "2               IT  \n",
       "3               IT  \n",
       "4               IT  \n",
       "...            ...  \n",
       "62091           IT  \n",
       "62092           IT  \n",
       "62093           IT  \n",
       "62094           IT  \n",
       "62095           GB  \n",
       "\n",
       "[62096 rows x 6 columns]"
      ]
     },
     "execution_count": 52,
     "metadata": {},
     "output_type": "execute_result"
    }
   ],
   "source": [
    "predictions_df = pd.DataFrame(predictions, columns = ['prediction_'+ str(i) for i in range(1,6)])\n",
    "predictions_df = pd.concat([pd.read_csv('./Dataset/test_users.csv')['id'],predictions_df],axis=1)\n",
    "predictions_df.to_csv('predictions.csv')\n",
    "predictions_df"
   ]
  }
 ],
 "metadata": {
  "kernelspec": {
   "display_name": "Python 3",
   "language": "python",
   "name": "python3"
  },
  "language_info": {
   "codemirror_mode": {
    "name": "ipython",
    "version": 3
   },
   "file_extension": ".py",
   "mimetype": "text/x-python",
   "name": "python",
   "nbconvert_exporter": "python",
   "pygments_lexer": "ipython3",
   "version": "3.8.5"
  }
 },
 "nbformat": 4,
 "nbformat_minor": 4
}
